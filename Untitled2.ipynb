{
 "cells": [
  {
   "cell_type": "code",
   "execution_count": 12,
   "id": "2f67194b",
   "metadata": {},
   "outputs": [],
   "source": [
    "import pandas as pd\n",
    "import matplotlib.pyplot as plt\n",
    "import ipywidgets as widgets\n",
    "from IPython.display import display, clear_output\n",
    "\n",
    "# Skapa en tom DataFrame\n",
    "df_sv = pd.DataFrame(columns=['Punktid', 'Baksikt (m)', 'Framsikt (m)', 'Höjdskillnad (m)', 'Ackumulerad höjd (m)'])\n"
   ]
  },
  {
   "cell_type": "code",
   "execution_count": 13,
   "id": "2a13ed65",
   "metadata": {},
   "outputs": [],
   "source": [
    "def update_dataframe(b):\n",
    "    global df_sv\n",
    "    new_data = {\n",
    "        'Punktid': punktid.value,\n",
    "        'Baksikt (m)': float(baksikt.value),\n",
    "        'Framsikt (m)': float(framsikt.value),\n",
    "        'Höjdskillnad (m)': float(baksikt.value) - float(framsikt.value)\n",
    "    }\n",
    "    df_sv = df_sv.append(new_data, ignore_index=True)\n",
    "    df_sv['Ackumulerad höjd (m)'] = df_sv['Höjdskillnad (m)'].cumsum()\n",
    "\n",
    "    with output:\n",
    "        clear_output(wait=True)\n",
    "        plot_accumulated_height(df_sv)\n",
    "\n",
    "def plot_accumulated_height(df):\n",
    "    plt.figure(figsize=(10, 6))\n",
    "    plt.plot(df['Punktid'], df['Ackumulerad höjd (m)'], marker='o')\n",
    "    plt.title('Ackumulerad Höjd per Punkt')\n",
    "    plt.xlabel('Punktid')\n",
    "    plt.ylabel('Ackumulerad Höjd (m)')\n",
    "    plt.grid(True)\n",
    "    plt.show()\n",
    "\n",
    "punktid = widgets.Text(description='Punktid:')\n",
    "baksikt = widgets.FloatText(description='Baksikt (m):')\n",
    "framsikt = widgets.FloatText(description='Framsikt (m):')\n",
    "submit_button = widgets.Button(description='Lägg till och plotta')\n",
    "output = widgets.Output()\n",
    "\n",
    "submit_button.on_click(update_dataframe)\n"
   ]
  },
  {
   "cell_type": "code",
   "execution_count": 14,
   "id": "61c822b9",
   "metadata": {
    "scrolled": true
   },
   "outputs": [
    {
     "data": {
      "application/vnd.jupyter.widget-view+json": {
       "model_id": "f44fbbd1a0e3474d8cdff43e74b5f2d0",
       "version_major": 2,
       "version_minor": 0
      },
      "text/plain": [
       "Text(value='', description='Punktid:')"
      ]
     },
     "metadata": {},
     "output_type": "display_data"
    },
    {
     "data": {
      "application/vnd.jupyter.widget-view+json": {
       "model_id": "3e958bbd4b9a49678e92469e876813c7",
       "version_major": 2,
       "version_minor": 0
      },
      "text/plain": [
       "FloatText(value=0.0, description='Baksikt (m):')"
      ]
     },
     "metadata": {},
     "output_type": "display_data"
    },
    {
     "data": {
      "application/vnd.jupyter.widget-view+json": {
       "model_id": "36a436912c374b2da22dfe21269edac5",
       "version_major": 2,
       "version_minor": 0
      },
      "text/plain": [
       "FloatText(value=0.0, description='Framsikt (m):')"
      ]
     },
     "metadata": {},
     "output_type": "display_data"
    },
    {
     "data": {
      "application/vnd.jupyter.widget-view+json": {
       "model_id": "0e130a990ef2446cb66f3364d0fb991f",
       "version_major": 2,
       "version_minor": 0
      },
      "text/plain": [
       "Button(description='Lägg till och plotta', style=ButtonStyle())"
      ]
     },
     "metadata": {},
     "output_type": "display_data"
    },
    {
     "data": {
      "application/vnd.jupyter.widget-view+json": {
       "model_id": "424fec0b19e14101b2f7cd6a7ecf48d9",
       "version_major": 2,
       "version_minor": 0
      },
      "text/plain": [
       "Output()"
      ]
     },
     "metadata": {},
     "output_type": "display_data"
    }
   ],
   "source": [
    "import matplotlib.pyplot as plt\n",
    "import ipywidgets as widgets\n",
    "from IPython.display import display, clear_output\n",
    "\n",
    "# Skapa en tom lista för avvägningsdata och en initial tom lista för plottade bilder\n",
    "avvagningsdata = []\n",
    "plottade_bilder = []\n",
    "\n",
    "def update_and_plot(b):\n",
    "    global avvagningsdata, plottade_bilder\n",
    "    punktid_value = punktid.value\n",
    "    baksikt_value = float(baksikt.value)\n",
    "    framsikt_value = float(framsikt.value)\n",
    "    hojdskillnad_value = baksikt_value - framsikt_value\n",
    "\n",
    "    # Lägg till data i listan\n",
    "    avvagningsdata.append((punktid_value, hojdskillnad_value))\n",
    "\n",
    "    # Plotta grafen\n",
    "    plottade_bilder = plot_accumulated_height(avvagningsdata, plottade_bilder)\n",
    "\n",
    "def plot_accumulated_height(data, previous_plots):\n",
    "    plt.figure(figsize=(10, 6))\n",
    "    punktid, ack_hojd = zip(*data)\n",
    "    plt.plot(punktid, ack_hojd, marker='o')\n",
    "    plt.title('Ackumulerad Höjd per Punkt')\n",
    "    plt.xlabel('Punktid')\n",
    "    plt.ylabel('Ackumulerad Höjd (m)')\n",
    "    plt.grid(True)\n",
    "\n",
    "    # Uppdatera tidigare plottade bild om det finns\n",
    "    if previous_plots:\n",
    "        output.clear_output(wait=True)  # Rensa den tidigare bilden\n",
    "        plt.show()\n",
    "    else:\n",
    "        plt.show()\n",
    "        previous_plots.append(1)  # Lägg till en plottmarker för att indikera att en bild har skapats\n",
    "\n",
    "punktid = widgets.Text(description='Punktid:')\n",
    "baksikt = widgets.FloatText(description='Baksikt (m):')\n",
    "framsikt = widgets.FloatText(description='Framsikt (m):')\n",
    "submit_button = widgets.Button(description='Lägg till och plotta')\n",
    "\n",
    "output = widgets.Output()\n",
    "display(punktid, baksikt, framsikt, submit_button, output)\n",
    "\n",
    "submit_button.on_click(update_and_plot)\n"
   ]
  },
  {
   "cell_type": "code",
   "execution_count": null,
   "id": "0a6fd4e7",
   "metadata": {},
   "outputs": [],
   "source": []
  },
  {
   "cell_type": "code",
   "execution_count": null,
   "id": "131e777f",
   "metadata": {},
   "outputs": [],
   "source": []
  }
 ],
 "metadata": {
  "kernelspec": {
   "display_name": "Python 3 (ipykernel)",
   "language": "python",
   "name": "python3"
  },
  "language_info": {
   "codemirror_mode": {
    "name": "ipython",
    "version": 3
   },
   "file_extension": ".py",
   "mimetype": "text/x-python",
   "name": "python",
   "nbconvert_exporter": "python",
   "pygments_lexer": "ipython3",
   "version": "3.11.5"
  }
 },
 "nbformat": 4,
 "nbformat_minor": 5
}
